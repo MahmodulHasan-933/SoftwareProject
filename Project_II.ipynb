{
  "nbformat": 4,
  "nbformat_minor": 0,
  "metadata": {
    "colab": {
      "name": "Project-II.ipynb",
      "private_outputs": true,
      "provenance": [],
      "collapsed_sections": [],
      "mount_file_id": "1NCA1mRlo8-Tu8lCWlEQV2wIy84HqJvod",
      "authorship_tag": "ABX9TyOG/mJ/4UVJ/3MFy3bxOxRn",
      "include_colab_link": true
    },
    "kernelspec": {
      "name": "python3",
      "display_name": "Python 3"
    },
    "language_info": {
      "name": "python"
    }
  },
  "cells": [
    {
      "cell_type": "markdown",
      "metadata": {
        "id": "view-in-github",
        "colab_type": "text"
      },
      "source": [
        "<a href=\"https://colab.research.google.com/github/MahmodulHasan-933/SoftwareProject/blob/main/Project_II.ipynb\" target=\"_parent\"><img src=\"https://colab.research.google.com/assets/colab-badge.svg\" alt=\"Open In Colab\"/></a>"
      ]
    },
    {
      "cell_type": "code",
      "metadata": {
        "id": "U60PwSatw4Lo"
      },
      "source": [
        "#Import Verious File\n",
        "import pandas as pd\n",
        "import matplotlib.pyplot as plt\n",
        "import numpy as np\n",
        "import matplotlib.dates as mdates"
      ],
      "execution_count": null,
      "outputs": []
    },
    {
      "cell_type": "code",
      "metadata": {
        "id": "c4rnY_51xZH8"
      },
      "source": [
        "#Import Data and Show\n",
        "ds=pd.read_csv('/content/drive/MyDrive/Software Project5/Project-2/Heart_Disease.csv') \n",
        "ds"
      ],
      "execution_count": null,
      "outputs": []
    },
    {
      "cell_type": "code",
      "metadata": {
        "id": "NZHEgAlLxu7a"
      },
      "source": [
        "#Create a Conditional Column(chol>220)\n",
        "ds['High_chol'] = [1 if chol >220 else 0 for chol in ds['chol']]\n",
        "ds"
      ],
      "execution_count": null,
      "outputs": []
    },
    {
      "cell_type": "code",
      "metadata": {
        "id": "7OC9F1SGx2IT"
      },
      "source": [
        "#Chose these Index\n",
        "df=ds.iloc[[0,1,2,3,4,5,6,7,8,95,99,103,105,109,296,297,298,299,300,301]]\n",
        "df.head()"
      ],
      "execution_count": null,
      "outputs": []
    },
    {
      "cell_type": "code",
      "metadata": {
        "id": "2U3F1UkByDA1"
      },
      "source": [
        "#Show dataTypes\n",
        "df.dtypes "
      ],
      "execution_count": null,
      "outputs": []
    },
    {
      "cell_type": "code",
      "metadata": {
        "id": "vVs1cbh-yFUN"
      },
      "source": [
        "#Show Columns Name\n",
        "df.columns"
      ],
      "execution_count": null,
      "outputs": []
    },
    {
      "cell_type": "code",
      "metadata": {
        "id": "18hfWpWdyK5v"
      },
      "source": [
        "#Index Numbers\n",
        "df.index"
      ],
      "execution_count": null,
      "outputs": []
    },
    {
      "cell_type": "code",
      "metadata": {
        "id": "3Z_E6EwKySAs"
      },
      "source": [
        "#Show the max and min of a column\n",
        "df.describe()"
      ],
      "execution_count": null,
      "outputs": []
    },
    {
      "cell_type": "code",
      "metadata": {
        "id": "k96Az3JryWSw"
      },
      "source": [
        "#Show the column Information\n",
        "df.info()"
      ],
      "execution_count": null,
      "outputs": []
    },
    {
      "cell_type": "code",
      "metadata": {
        "id": "V-5AtTJlyc-B"
      },
      "source": [
        "#making average of a column\n",
        "df.mean()"
      ],
      "execution_count": null,
      "outputs": []
    },
    {
      "cell_type": "code",
      "metadata": {
        "id": "BSuXvJHpyi3M"
      },
      "source": [
        "#Bar Chart\n",
        "df[\"age\"] = df[\"age\"].astype(int)\n",
        "df.plot(x =\"cp\", y = \"age\", kind= \"bar\")"
      ],
      "execution_count": null,
      "outputs": []
    },
    {
      "cell_type": "code",
      "metadata": {
        "id": "jhNqc5KhyvKp"
      },
      "source": [
        "#Pie chart\n",
        "df[\"target\"] = df[\"target\"].astype(int)\n",
        "df.plot(x =\"target\", y = \"fbs\", kind= \"pie\")"
      ],
      "execution_count": null,
      "outputs": []
    },
    {
      "cell_type": "code",
      "metadata": {
        "id": "wQixnUJUyyUU"
      },
      "source": [
        "#Histogram\n",
        "df[\"age\"].plot.hist()"
      ],
      "execution_count": null,
      "outputs": []
    },
    {
      "cell_type": "code",
      "metadata": {
        "id": "6el3LfO2y4oO"
      },
      "source": [
        "#Single line Graph\n",
        "df[\"chol\"].plot()"
      ],
      "execution_count": null,
      "outputs": []
    },
    {
      "cell_type": "code",
      "metadata": {
        "id": "5164LeXuzBXB"
      },
      "source": [
        "#Single line Graph\n",
        "df[\"trestbps\"].plot()"
      ],
      "execution_count": null,
      "outputs": []
    },
    {
      "cell_type": "code",
      "metadata": {
        "id": "cyTC65dlzWjP"
      },
      "source": [
        "#Single line Graph\n",
        "df[\"thalach\"].plot()"
      ],
      "execution_count": null,
      "outputs": []
    },
    {
      "cell_type": "code",
      "metadata": {
        "id": "1E7ZMaI90OcM"
      },
      "source": [
        "#Line Graph\n",
        "df[\"chol\"] = df[\"chol\"].astype(int)\n",
        "df.plot(x =\"chol\", y = \"target\", kind= \"line\")"
      ],
      "execution_count": null,
      "outputs": []
    }
  ]
}